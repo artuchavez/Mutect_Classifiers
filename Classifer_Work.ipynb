{
 "cells": [
  {
   "cell_type": "markdown",
   "metadata": {},
   "source": [
    "# Generating Randomized Data"
   ]
  },
  {
   "cell_type": "code",
   "execution_count": 1,
   "metadata": {
    "collapsed": false
   },
   "outputs": [],
   "source": [
    "import pandas as pd\n",
    "import numpy as np\n",
    "\n",
    "rows = 100\n",
    "\n",
    "# Training Set\n",
    "\n",
    "# 1 is true positive, 0 is false postive\n",
    "labels = np.random.randint(2, size=rows)\n",
    "\n",
    "# feature values drawn from a normal distribution\n",
    "# with mean=0 and var=1 \n",
    "feature1 = np.random.randn(rows)\n",
    "feature2 = np.random.randn(rows)\n",
    "feature3 = np.random.randn(rows)\n",
    "feature4 = np.random.randn(rows)\n",
    "feature5 = np.random.randn(rows)\n",
    "\n",
    "feature_dict = {'feature1': feature1,'feature2': feature2, \n",
    "                'feature3': feature3, 'feature4': feature4, \n",
    "                'feature5': feature5}\n",
    "\n",
    "mutect_output = pd.DataFrame(feature_dict)\n",
    "\n",
    "# Test Set\n",
    "\n",
    "# 1 is true positive, 0 is false postive\n",
    "test_labels = np.random.randint(2, size=rows)\n",
    "\n",
    "# feature values drawn from a normal distribution\n",
    "# with mean=0 and var=1 \n",
    "test_feature1 = np.random.randn(rows)\n",
    "test_feature2 = np.random.randn(rows)\n",
    "test_feature3 = np.random.randn(rows)\n",
    "test_feature4 = np.random.randn(rows)\n",
    "test_feature5 = np.random.randn(rows)\n",
    "\n",
    "test_feature_dict = {'feature1': test_feature1,'feature2': test_feature2, \n",
    "                'feature3': test_feature3, 'feature4': test_feature4, \n",
    "                'feature5': test_feature5}\n",
    "\n",
    "test_mutect_output = pd.DataFrame(test_feature_dict)\n",
    "\n"
   ]
  },
  {
   "cell_type": "markdown",
   "metadata": {},
   "source": [
    "# Gameplan\n",
    "\n",
    "We are going to build a classifier to separate mutect outputs between true positive and false positive. It is unclear which approach will yield the best results, so we will try a few. \n",
    "1. Logisitic Regression\n",
    "2. K-Nearest Neighbors\n",
    "3. Neural Network\n",
    "\n",
    "more ideas to come...\n",
    "\n"
   ]
  },
  {
   "cell_type": "code",
   "execution_count": 2,
   "metadata": {
    "collapsed": false
   },
   "outputs": [
    {
     "name": "stdout",
     "output_type": "stream",
     "text": [
      "0.49\n"
     ]
    }
   ],
   "source": [
    "import sklearn\n",
    "from sklearn import linear_model, datasets\n",
    "\n",
    "X = mutect_output.as_matrix(columns=None)\n",
    "Y = labels\n",
    "\n",
    "logreg = linear_model.LogisticRegression(C=1e5)\n",
    "logreg.fit(X, Y)\n",
    "\n",
    "X_test = test_mutect_output.as_matrix(columns=None)\n",
    "Y_test = test_labels\n",
    "\n",
    "print logreg.score(X_test, Y_test)\n"
   ]
  },
  {
   "cell_type": "markdown",
   "metadata": {},
   "source": [
    "## Code for Cross Validation"
   ]
  },
  {
   "cell_type": "code",
   "execution_count": 3,
   "metadata": {
    "collapsed": false
   },
   "outputs": [
    {
     "name": "stdout",
     "output_type": "stream",
     "text": [
      "15\n"
     ]
    }
   ],
   "source": [
    "##### TO BE COMPLETED LATER\n",
    "a = pd.Series([1,2,3,4,5])\n",
    "print(a.sum())"
   ]
  },
  {
   "cell_type": "markdown",
   "metadata": {},
   "source": [
    "## Read in the Dream3 Files"
   ]
  },
  {
   "cell_type": "code",
   "execution_count": 4,
   "metadata": {
    "collapsed": false
   },
   "outputs": [
    {
     "name": "stdout",
     "output_type": "stream",
     "text": [
      "['CHROM', 'POS', 'REF', 'ALT', 'AC', 'AF', 'AN', 'BaseQRankSum', 'ClippingRankSum', 'DP', 'FS', 'MQRankSum', 'NLOD', 'N_ART_LOD', 'RAW_MQ', 'ReadPosRankSum', 'SOR', 'TLOD', 'TLOD_FWD', 'TLOD_REV', 'TUMOR_SB_POWER_FWD', 'TUMOR_SB_POWER_REV', 'G15512.prenormal.sorted.ALT_F1R2', 'G15512.prenormal.sorted.ALT_F2R1-GF', 'G15512.prenormal.sorted.FOXOG', 'G15512.prenormal.sorted.QSS', 'G15512.prenormal.sorted.REF_F1R2', 'G15512.prenormal.sorted.REF_F2R1', 'IS3.snv.indel.sv.ALT_F1R2', 'IS3.snv.indel.sv.ALT_F2R1-GF', 'IS3.snv.indel.sv.FOXOG', 'IS3.snv.indel.sv.QSS', 'IS3.snv.indel.sv.REF_F1R2', 'IS3.snv.indel.sv.REF_F2R1', 'Label']\n"
     ]
    },
    {
     "data": {
      "text/plain": [
       "\"\\n\\nfor row in range(200): #len(data)):\\n    chrom = data.loc[:,('CHROM', row)]\\n    pos = data.loc[:,('POS', row)] \\n    ref = data.loc[:,('REF', row)]\\n    alt = data.loc[:,('ALT', row)]\\n    ans = ((data_truth['CHROM'] == chrom) & (data_truth['POS'] == pos) & \\n                (data_truth['REF'] == ref) & (data_truth['ALT'] == alt)).any()\\n    if ans:\\n        data['Label'][row] = 1\\n\\n\\na = data['Label']\\nprint(a.sum())\\n\""
      ]
     },
     "execution_count": 4,
     "metadata": {},
     "output_type": "execute_result"
    }
   ],
   "source": [
    "data_truth = pd.read_csv('DREAM3_truth.txt', delimiter='\\t', low_memory=False)\n",
    "data =  pd.read_csv('DREAM3_unfiltered.txt', delimiter='\\t', low_memory=False)\n",
    "data['Label'] = 0\n",
    "print list(data)\n",
    "\n",
    "# create labels for the data\n",
    "\"\"\"\n",
    "\n",
    "for row in range(200): #len(data)):\n",
    "    chrom = data.loc[:,('CHROM', row)]\n",
    "    pos = data.loc[:,('POS', row)] \n",
    "    ref = data.loc[:,('REF', row)]\n",
    "    alt = data.loc[:,('ALT', row)]\n",
    "    ans = ((data_truth['CHROM'] == chrom) & (data_truth['POS'] == pos) & \n",
    "                (data_truth['REF'] == ref) & (data_truth['ALT'] == alt)).any()\n",
    "    if ans:\n",
    "        data['Label'][row] = 1\n",
    "\n",
    "\n",
    "a = data['Label']\n",
    "print(a.sum())\n",
    "\"\"\""
   ]
  },
  {
   "cell_type": "markdown",
   "metadata": {},
   "source": [
    "## Dream4 Data \n",
    "Labeled through excel"
   ]
  },
  {
   "cell_type": "code",
   "execution_count": 5,
   "metadata": {
    "collapsed": false
   },
   "outputs": [],
   "source": [
    "import pandas as pd\n",
    "import numpy as np\n",
    "data = pd.read_excel('dream4_data.xlsx')"
   ]
  },
  {
   "cell_type": "code",
   "execution_count": 6,
   "metadata": {
    "collapsed": false
   },
   "outputs": [],
   "source": [
    "#data['synthetic.challenge.set4.normal.FOXOG']\n",
    "#print data\n",
    "#print data.dropna()\n",
    "#print data['synthetic.challenge.set4.normal.FOXOG'][0:100]"
   ]
  },
  {
   "cell_type": "code",
   "execution_count": 7,
   "metadata": {
    "collapsed": false
   },
   "outputs": [
    {
     "name": "stdout",
     "output_type": "stream",
     "text": [
      "43923\n",
      "43688\n",
      "0   -0.262523\n",
      "1   -0.186452\n",
      "2   -0.167857\n",
      "3   -0.164476\n",
      "4   -0.167857\n",
      "5   -0.159405\n",
      "6   -0.159405\n",
      "7   -0.156024\n",
      "8   -0.198285\n",
      "9   -0.156024\n",
      "Name: DP_norm, dtype: float64\n"
     ]
    }
   ],
   "source": [
    "print len(data)\n",
    "data.dropna(inplace=True)\n",
    "print len(data)\n",
    "\n",
    "def normalize_value(df, column, mean, std):\n",
    "    name = column + '_norm'\n",
    "    df[name] = (df[column] - mean) / std\n",
    "    return df\n",
    "    \n",
    "def build_summary(df, columns):\n",
    "    \"\"\"\n",
    "    df is a dataframe\n",
    "    columns is a list of columns get summary data\n",
    "    returns a dict with column as key - value is (median, std)\n",
    "    \"\"\"\n",
    "    summary_dict = dict()\n",
    "    for name in columns:\n",
    "        mean = np.mean(data[name])\n",
    "        std = np.std(data[name])\n",
    "        summary_dict[name] = (mean, std)\n",
    "    return summary_dict\n",
    "\n",
    "def normalize_cols(df, columns):\n",
    "    col_dict = build_summary(df, columns)\n",
    "    for col in columns:\n",
    "        stats = col_dict[col]\n",
    "        normalize_value(df, col, stats[0], stats[1])\n",
    "    return df\n",
    "cols = ['DP', 'FS', 'RAW_MQ', 'TLOD_FWD', 'TLOD_REV', 'BaseQRankSum', 'ClippingRankSum', 'MQRankSum', 'ReadPosRankSum']\n",
    "normalize_cols(data, cols)\n",
    "\n",
    "\n",
    "print data['DP_norm'][0:10]\n"
   ]
  },
  {
   "cell_type": "code",
   "execution_count": 8,
   "metadata": {
    "collapsed": false
   },
   "outputs": [],
   "source": [
    "Y = data['Label']\n",
    "del data['Label']\n",
    "\n",
    "barrier = int(len(data) * (3.0/10.0))\n",
    "\n",
    "data_test = data[:barrier]\n",
    "Y_test = Y[:barrier]\n",
    "data = data[barrier:]\n",
    "Y = Y[barrier:]\n",
    "\n",
    "X_base = np.random.randint(2, size=len(data)).reshape(-1, 1)\n",
    "X_base_test = np.random.randint(2, size=len(data_test)).reshape(-1, 1)\n",
    "\n",
    "X_1 = data.as_matrix(columns=['DP', 'FS'])\n",
    "X_1_test = data_test.as_matrix(columns=['DP', 'FS'])\n",
    "\n",
    "X_2 = data.as_matrix(columns=['DP', 'FS', 'RAW_MQ'])\n",
    "X_2_test = data_test.as_matrix(columns=['DP', 'FS', 'RAW_MQ'])\n",
    "\n",
    "X_3 = data.as_matrix(columns=['DP', 'FS', 'RAW_MQ','TLOD_FWD', 'TLOD_REV'])\n",
    "X_3_test = data_test.as_matrix(columns=['DP', 'FS', 'RAW_MQ', 'TLOD_FWD', 'TLOD_REV'])\n",
    "\n",
    "X_4 = data.as_matrix(columns=['DP', 'FS','TLOD_FWD', 'TLOD_REV'])\n",
    "X_4_test = data_test.as_matrix(columns=['DP', 'FS', 'TLOD_FWD', 'TLOD_REV'])\n",
    "\n",
    "X_5 = data.as_matrix(columns=['TLOD_FWD', 'TLOD_REV'])\n",
    "X_5_test = data_test.as_matrix(columns=['TLOD_FWD', 'TLOD_REV'])\n",
    "\n",
    "X_6 = data.as_matrix(columns=['DP_norm', 'FS_norm', 'RAW_MQ_norm','TLOD_FWD_norm', 'TLOD_REV_norm'])\n",
    "X_6_test = data_test.as_matrix(columns=['DP_norm', 'FS_norm', 'RAW_MQ_norm', 'TLOD_FWD_norm', 'TLOD_REV_norm'])\n",
    "\n",
    "X_7 = data.as_matrix(columns=['DP_norm', 'FS_norm'])\n",
    "X_7_test = data_test.as_matrix(columns=['DP_norm', 'FS_norm'])\n",
    "\n",
    "X_8 = data.as_matrix(columns=['DP_norm', 'FS_norm', 'RAW_MQ_norm','TLOD_FWD_norm', 'TLOD_REV_norm', 'BaseQRankSum_norm', 'ClippingRankSum_norm', 'MQRankSum_norm', 'ReadPosRankSum_norm'])\n",
    "X_8_test = data_test.as_matrix(columns=['DP_norm', 'FS_norm', 'RAW_MQ_norm', 'TLOD_FWD_norm', 'TLOD_REV_norm', 'BaseQRankSum_norm', 'ClippingRankSum_norm', 'MQRankSum_norm', 'ReadPosRankSum_norm'])\n",
    "\n",
    "\n",
    "#X_1 = data.as_matrix(columns=None)\n",
    "#X_3 = data.as_matrix(columns=['BaseQRankSum', 'ClippingRankSum', 'DP', 'FS', 'MQRankSum', 'N_ART_LOD', 'RAW_MQ', \n",
    "#                              'ReadPosRankSum', 'SOR','TLOD', 'TLOD_FWD', 'TLOD_REV'])\n"
   ]
  },
  {
   "cell_type": "code",
   "execution_count": 9,
   "metadata": {
    "collapsed": false
   },
   "outputs": [
    {
     "name": "stdout",
     "output_type": "stream",
     "text": [
      "0.491149092019\n",
      "0.672974210285\n",
      "0.508850907981\n",
      "0.508850907981\n",
      "0.726079658172\n",
      "0.583091713719\n",
      "0.751564169083\n",
      "0.673203113078\n",
      "0.831069739051\n"
     ]
    }
   ],
   "source": [
    "\n",
    "logreg = linear_model.LogisticRegression(C=1)\n",
    "logreg.fit(X_base, Y)\n",
    "print logreg.score(X_base_test, Y_test)\n",
    "\n",
    "logreg.fit(X_1, Y)\n",
    "print logreg.score(X_1_test, Y_test)\n",
    "\n",
    "logreg.fit(X_2, Y)\n",
    "print logreg.score(X_2_test, Y_test)\n",
    "\n",
    "logreg.fit(X_3, Y)\n",
    "print logreg.score(X_3_test, Y_test)\n",
    "\n",
    "logreg.fit(X_4, Y)\n",
    "print logreg.score(X_4_test, Y_test)\n",
    "\n",
    "logreg.fit(X_5, Y)\n",
    "print logreg.score(X_5_test, Y_test)\n",
    "\n",
    "logreg.fit(X_6, Y)\n",
    "print logreg.score(X_6_test, Y_test)\n",
    "\n",
    "logreg.fit(X_7, Y)\n",
    "print logreg.score(X_7_test, Y_test)\n",
    "\n",
    "logreg.fit(X_8, Y)\n",
    "print logreg.score(X_8_test, Y_test)\n"
   ]
  },
  {
   "cell_type": "code",
   "execution_count": 10,
   "metadata": {
    "collapsed": false
   },
   "outputs": [
    {
     "name": "stdout",
     "output_type": "stream",
     "text": [
      "[ 0.814374    0.79262989  0.80178531  0.76974136  0.83245594  0.85122454\n",
      "  0.80082418]\n",
      "0.809005029728 0.0247562097701\n"
     ]
    }
   ],
   "source": [
    "from sklearn.model_selection import cross_val_score\n",
    "from sklearn.svm import SVC\n",
    "\n",
    "scores = cross_val_score(logreg, X_8, Y, cv=7)\n",
    "print scores\n",
    "print scores.mean(), scores.std()"
   ]
  },
  {
   "cell_type": "code",
   "execution_count": 11,
   "metadata": {
    "collapsed": false
   },
   "outputs": [
    {
     "data": {
      "text/plain": [
       "\"\\n### POLY KERNEL (DEGREE 3)\\nsvc = SVC(kernel='poly')\\nsvc.fit(X_1, Y)\\nprint svc.score(X_1_test, Y_test)\\n\\nsvc.fit(X_2, Y)\\nprint svc.score(X_2_test, Y_test)\\n\\nsvc.fit(X_3, Y)\\nprint svc.score(X_3_test, Y_test)\\n\\n#svc.fit(X_4, Y)\\n#print svc.score(X_4_test, Y_test)\\n\\n#svc.fit(X_5, Y)\\n#print svc.score(X_5_test, Y_test)\\n\\nsvc.fit(X_6, Y)\\nprint svc.score(X_6_test, Y_test)\\n\\n#svc.fit(X_7, Y)\\n#print svc.score(X_7_test, Y_test)\\n\\nsvc.fit(X_8, Y)\\nprint svc.score(X_8_test, Y_test)\\n\""
      ]
     },
     "execution_count": 11,
     "metadata": {},
     "output_type": "execute_result"
    }
   ],
   "source": [
    "##### SVM Classifier\n",
    "from sklearn.svm import SVC\n",
    "\n",
    "### POLY KERNEL (DEGREE 3)\n",
    "svc = SVC(kernel='poly')\n",
    "svc.fit(X_1, Y)\n",
    "print svc.score(X_1_test, Y_test)\n",
    "\n",
    "svc.fit(X_2, Y)\n",
    "print svc.score(X_2_test, Y_test)\n",
    "\n",
    "svc.fit(X_3, Y)\n",
    "print svc.score(X_3_test, Y_test)\n",
    "\n",
    "svc.fit(X_4, Y)\n",
    "print svc.score(X_4_test, Y_test)\n",
    "\n",
    "svc.fit(X_5, Y)\n",
    "print svc.score(X_5_test, Y_test)\n",
    "\n",
    "svc.fit(X_6, Y)\n",
    "print svc.score(X_6_test, Y_test)\n",
    "\n",
    "svc.fit(X_7, Y)\n",
    "print svc.score(X_7_test, Y_test)\n",
    "\n",
    "svc.fit(X_8, Y)\n",
    "print svc.score(X_8_test, Y_test)\n"
   ]
  },
  {
   "cell_type": "code",
   "execution_count": 12,
   "metadata": {
    "collapsed": false
   },
   "outputs": [
    {
     "name": "stdout",
     "output_type": "stream",
     "text": [
      "0.717686555776\n",
      "0.825576072028\n",
      "0.801312376011\n",
      "0.791088051274\n",
      "0.731878528918\n",
      "0.78284755074\n",
      "0.657332519457\n",
      "0.868457195178\n"
     ]
    }
   ],
   "source": [
    "### RBF KERNEL\n",
    "svc = SVC(kernel='rbf')\n",
    "svc.fit(X_1, Y)\n",
    "print svc.score(X_1_test, Y_test)\n",
    "\n",
    "svc.fit(X_2, Y)\n",
    "print svc.score(X_2_test, Y_test)\n",
    "\n",
    "svc.fit(X_3, Y)\n",
    "print svc.score(X_3_test, Y_test)\n",
    "\n",
    "svc.fit(X_4, Y)\n",
    "print svc.score(X_4_test, Y_test)\n",
    "\n",
    "svc.fit(X_5, Y)\n",
    "print svc.score(X_5_test, Y_test)\n",
    "\n",
    "svc.fit(X_6, Y)\n",
    "print svc.score(X_6_test, Y_test)\n",
    "\n",
    "svc.fit(X_7, Y)\n",
    "print svc.score(X_7_test, Y_test)\n",
    "\n",
    "svc.fit(X_8, Y)\n",
    "print svc.score(X_8_test, Y_test)\n"
   ]
  },
  {
   "cell_type": "code",
   "execution_count": 13,
   "metadata": {
    "collapsed": false
   },
   "outputs": [
    {
     "name": "stdout",
     "output_type": "stream",
     "text": [
      "[ 0.85214008  0.83428702  0.83680476  0.81689174  0.86472877  0.88326848\n",
      "  0.82944139]\n",
      "0.845366034771 0.021104564681\n"
     ]
    }
   ],
   "source": [
    "scores = cross_val_score(svc, X_8, Y, cv=7)\n",
    "print scores\n",
    "print scores.mean(), scores.std()\n"
   ]
  },
  {
   "cell_type": "code",
   "execution_count": 10,
   "metadata": {
    "collapsed": false
   },
   "outputs": [
    {
     "ename": "NameError",
     "evalue": "name 'SVC' is not defined",
     "output_type": "error",
     "traceback": [
      "\u001b[0;31m---------------------------------------------------------------------------\u001b[0m",
      "\u001b[0;31mNameError\u001b[0m                                 Traceback (most recent call last)",
      "\u001b[0;32m<ipython-input-10-377cd1359f58>\u001b[0m in \u001b[0;36m<module>\u001b[0;34m()\u001b[0m\n\u001b[1;32m      1\u001b[0m \u001b[0;31m### Linear KERNEL\u001b[0m\u001b[0;34m\u001b[0m\u001b[0;34m\u001b[0m\u001b[0m\n\u001b[0;32m----> 2\u001b[0;31m \u001b[0msvc\u001b[0m \u001b[0;34m=\u001b[0m \u001b[0mSVC\u001b[0m\u001b[0;34m(\u001b[0m\u001b[0mkernel\u001b[0m\u001b[0;34m=\u001b[0m\u001b[0;34m'linear'\u001b[0m\u001b[0;34m)\u001b[0m\u001b[0;34m\u001b[0m\u001b[0m\n\u001b[0m\u001b[1;32m      3\u001b[0m \u001b[0msvc\u001b[0m\u001b[0;34m.\u001b[0m\u001b[0mfit\u001b[0m\u001b[0;34m(\u001b[0m\u001b[0mX_1\u001b[0m\u001b[0;34m,\u001b[0m \u001b[0mY\u001b[0m\u001b[0;34m)\u001b[0m\u001b[0;34m\u001b[0m\u001b[0m\n\u001b[1;32m      4\u001b[0m \u001b[0;32mprint\u001b[0m \u001b[0msvc\u001b[0m\u001b[0;34m.\u001b[0m\u001b[0mscore\u001b[0m\u001b[0;34m(\u001b[0m\u001b[0mX_1_test\u001b[0m\u001b[0;34m,\u001b[0m \u001b[0mY_test\u001b[0m\u001b[0;34m)\u001b[0m\u001b[0;34m\u001b[0m\u001b[0m\n\u001b[1;32m      5\u001b[0m \u001b[0;34m\u001b[0m\u001b[0m\n",
      "\u001b[0;31mNameError\u001b[0m: name 'SVC' is not defined"
     ]
    }
   ],
   "source": [
    "### Linear KERNEL \n",
    "svc = SVC(kernel='linear')\n",
    "svc.fit(X_1, Y)\n",
    "print svc.score(X_1_test, Y_test)\n",
    "\n",
    "svc.fit(X_2, Y)\n",
    "print svc.score(X_2_test, Y_test)\n",
    "\n",
    "svc.fit(X_3, Y)\n",
    "print svc.score(X_3_test, Y_test)\n",
    "\n",
    "svc.fit(X_4, Y)\n",
    "print svc.score(X_4_test, Y_test)\n",
    "\n",
    "svc.fit(X_5, Y)\n",
    "print svc.score(X_5_test, Y_test)\n",
    "\n",
    "svc.fit(X_6, Y)\n",
    "print svc.score(X_6_test, Y_test)\n",
    "\n",
    "svc.fit(X_7, Y)\n",
    "print svc.score(X_7_test, Y_test)\n",
    "\n",
    "svc.fit(X_8, Y)\n",
    "print svc.score(X_8_test, Y_test)"
   ]
  }
 ],
 "metadata": {
  "anaconda-cloud": {},
  "kernelspec": {
   "display_name": "Python 2",
   "language": "python",
   "name": "python2"
  },
  "language_info": {
   "codemirror_mode": {
    "name": "ipython",
    "version": 2
   },
   "file_extension": ".py",
   "mimetype": "text/x-python",
   "name": "python",
   "nbconvert_exporter": "python",
   "pygments_lexer": "ipython2",
   "version": "2.7.13"
  }
 },
 "nbformat": 4,
 "nbformat_minor": 1
}
