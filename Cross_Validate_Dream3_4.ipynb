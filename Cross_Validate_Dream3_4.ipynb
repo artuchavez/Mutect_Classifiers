{
 "cells": [
  {
   "cell_type": "code",
   "execution_count": 1,
   "metadata": {
    "collapsed": false
   },
   "outputs": [],
   "source": [
    "import pandas as pd\n",
    "import numpy as np\n",
    "import sklearn\n",
    "from sklearn import linear_model\n",
    "\n",
    "data_4 = pd.read_excel('dream4_data.xlsx')\n",
    "data_3 = pd.read_excel('dream3_data.xlsx')\n",
    "\n"
   ]
  },
  {
   "cell_type": "code",
   "execution_count": 2,
   "metadata": {
    "collapsed": false
   },
   "outputs": [
    {
     "name": "stdout",
     "output_type": "stream",
     "text": [
      "43923\n",
      "43688\n",
      "56791\n",
      "56372\n",
      "0   -0.337144\n",
      "1    0.029098\n",
      "2   -0.091133\n",
      "3   -0.248358\n",
      "4   -0.128127\n",
      "5    1.686433\n",
      "6   -0.118879\n",
      "7   -0.316797\n",
      "8   -0.313098\n",
      "9   -0.296450\n",
      "Name: DP_norm, dtype: float64\n"
     ]
    }
   ],
   "source": [
    "print len(data_4)\n",
    "data_4.dropna(inplace=True)\n",
    "print len(data_4)\n",
    "\n",
    "\n",
    "data_3 = data_3[['DP', 'FS', 'Label', 'RAW_MQ', 'TLOD_FWD', 'TLOD_REV', 'BaseQRankSum', 'ClippingRankSum', 'MQRankSum', 'ReadPosRankSum']]\n",
    "\n",
    "print len(data_3)\n",
    "data_3.dropna(inplace=True)\n",
    "print len(data_3)\n",
    "\n",
    "def normalize_value(df, column, mean, std):\n",
    "    name = column + '_norm'\n",
    "    df[name] = (df[column] - mean) / std\n",
    "    return df\n",
    "    \n",
    "def build_summary(df, columns):\n",
    "    \"\"\"\n",
    "    df is a dataframe\n",
    "    columns is a list of columns get summary data\n",
    "    returns a dict with column as key - value is (median, std)\n",
    "    \"\"\"\n",
    "    summary_dict = dict()\n",
    "    for name in columns:\n",
    "        mean = np.mean(df[name])\n",
    "        std = np.std(df[name])\n",
    "        summary_dict[name] = (mean, std)\n",
    "    return summary_dict\n",
    "\n",
    "def normalize_cols(df, columns):\n",
    "    col_dict = build_summary(df, columns)\n",
    "    for col in columns:\n",
    "        stats = col_dict[col]\n",
    "        normalize_value(df, col, stats[0], stats[1])\n",
    "    return df\n",
    "cols = ['DP', 'FS', 'RAW_MQ', 'TLOD_FWD', 'TLOD_REV', 'BaseQRankSum', 'ClippingRankSum', 'MQRankSum', 'ReadPosRankSum']\n",
    "normalize_cols(data_3, cols)\n",
    "normalize_cols(data_4, cols)\n",
    "\n",
    "\n",
    "print data_3['DP_norm'][0:10]"
   ]
  },
  {
   "cell_type": "code",
   "execution_count": 3,
   "metadata": {
    "collapsed": false
   },
   "outputs": [],
   "source": [
    "Y_dream3 = data_3['Label']\n",
    "Y_dream4 = data_4['Label']\n",
    "\n",
    "del data_3['Label']\n",
    "del data_4['Label']\n",
    "\n",
    "data_test = data_4\n",
    "Y_test = Y_dream4\n",
    "data = data_3\n",
    "Y = Y_dream3\n",
    "\n",
    "X_base = np.random.randint(2, size=len(data)).reshape(-1, 1)\n",
    "X_base_test = np.random.randint(2, size=len(data_test)).reshape(-1, 1)\n",
    "\n",
    "X_1 = data.as_matrix(columns=['DP', 'FS'])\n",
    "X_1_test = data_test.as_matrix(columns=['DP', 'FS'])\n",
    "\n",
    "X_2 = data.as_matrix(columns=['DP', 'FS', 'RAW_MQ'])\n",
    "X_2_test = data_test.as_matrix(columns=['DP', 'FS', 'RAW_MQ'])\n",
    "\n",
    "X_3 = data.as_matrix(columns=['DP', 'FS', 'RAW_MQ','TLOD_FWD', 'TLOD_REV'])\n",
    "X_3_test = data_test.as_matrix(columns=['DP', 'FS', 'RAW_MQ', 'TLOD_FWD', 'TLOD_REV'])\n",
    "\n",
    "X_4 = data.as_matrix(columns=['DP', 'FS','TLOD_FWD', 'TLOD_REV'])\n",
    "X_4_test = data_test.as_matrix(columns=['DP', 'FS', 'TLOD_FWD', 'TLOD_REV'])\n",
    "\n",
    "X_5 = data.as_matrix(columns=['TLOD_FWD', 'TLOD_REV'])\n",
    "X_5_test = data_test.as_matrix(columns=['TLOD_FWD', 'TLOD_REV'])\n",
    "\n",
    "X_6 = data.as_matrix(columns=['DP_norm', 'FS_norm', 'RAW_MQ_norm','TLOD_FWD_norm', 'TLOD_REV_norm'])\n",
    "X_6_test = data_test.as_matrix(columns=['DP_norm', 'FS_norm', 'RAW_MQ_norm', 'TLOD_FWD_norm', 'TLOD_REV_norm'])\n",
    "\n",
    "X_7 = data.as_matrix(columns=['DP_norm', 'FS_norm'])\n",
    "X_7_test = data_test.as_matrix(columns=['DP_norm', 'FS_norm'])\n",
    "\n",
    "X_8 = data.as_matrix(columns=['DP_norm', 'FS_norm', 'RAW_MQ_norm','TLOD_FWD_norm', 'TLOD_REV_norm', 'BaseQRankSum_norm', 'ClippingRankSum_norm', 'MQRankSum_norm', 'ReadPosRankSum_norm'])\n",
    "X_8_test = data_test.as_matrix(columns=['DP_norm', 'FS_norm', 'RAW_MQ_norm', 'TLOD_FWD_norm', 'TLOD_REV_norm', 'BaseQRankSum_norm', 'ClippingRankSum_norm', 'MQRankSum_norm', 'ReadPosRankSum_norm'])\n",
    "\n",
    "\n",
    "#X_1 = data.as_matrix(columns=None)\n",
    "#X_3 = data.as_matrix(columns=['BaseQRankSum', 'ClippingRankSum', 'DP', 'FS', 'MQRankSum', 'N_ART_LOD', 'RAW_MQ', \n",
    "#                              'ReadPosRankSum', 'SOR','TLOD', 'TLOD_FWD', 'TLOD_REV'])\n"
   ]
  },
  {
   "cell_type": "code",
   "execution_count": 4,
   "metadata": {
    "collapsed": false
   },
   "outputs": [
    {
     "name": "stdout",
     "output_type": "stream",
     "text": [
      "0.48928767625\n",
      "0.476194836111\n",
      "0.48928767625\n",
      "0.489058780443\n",
      "0.623100164805\n",
      "0.473539644754\n",
      "0.600210584142\n",
      "0.48928767625\n",
      "0.576977659769\n"
     ]
    }
   ],
   "source": [
    "\n",
    "logreg = linear_model.LogisticRegression(C=1)\n",
    "logreg.fit(X_base, Y)\n",
    "print logreg.score(X_base_test, Y_test)\n",
    "\n",
    "logreg.fit(X_1, Y)\n",
    "print logreg.score(X_1_test, Y_test)\n",
    "\n",
    "logreg.fit(X_2, Y)\n",
    "print logreg.score(X_2_test, Y_test)\n",
    "\n",
    "logreg.fit(X_3, Y)\n",
    "print logreg.score(X_3_test, Y_test)\n",
    "\n",
    "logreg.fit(X_4, Y)\n",
    "print logreg.score(X_4_test, Y_test)\n",
    "\n",
    "logreg.fit(X_5, Y)\n",
    "print logreg.score(X_5_test, Y_test)\n",
    "\n",
    "logreg.fit(X_6, Y)\n",
    "print logreg.score(X_6_test, Y_test)\n",
    "\n",
    "logreg.fit(X_7, Y)\n",
    "print logreg.score(X_7_test, Y_test)\n",
    "\n",
    "logreg.fit(X_8, Y)\n",
    "print logreg.score(X_8_test, Y_test)\n"
   ]
  },
  {
   "cell_type": "code",
   "execution_count": 5,
   "metadata": {
    "collapsed": false
   },
   "outputs": [
    {
     "name": "stdout",
     "output_type": "stream",
     "text": [
      "[ 0.89880805  0.88377002  0.88091395  0.89693282  0.88699863  0.89780206\n",
      "  0.88923383]\n",
      "0.890637050823 0.00670438244385\n"
     ]
    }
   ],
   "source": [
    "from sklearn.model_selection import cross_val_score\n",
    "from sklearn.svm import SVC\n",
    "\n",
    "scores = cross_val_score(logreg, X_8, Y, cv=7)\n",
    "print scores\n",
    "print scores.mean(), scores.std()"
   ]
  },
  {
   "cell_type": "code",
   "execution_count": 6,
   "metadata": {
    "collapsed": true
   },
   "outputs": [],
   "source": [
    "##### SVM Classifier\n",
    "\n"
   ]
  },
  {
   "cell_type": "code",
   "execution_count": 7,
   "metadata": {
    "collapsed": false
   },
   "outputs": [
    {
     "name": "stdout",
     "output_type": "stream",
     "text": [
      "0.520165720564\n",
      "0.68268174327\n",
      "0.615088811573\n",
      "0.693050723311\n",
      "0.612158945248\n",
      "0.647569126534\n",
      "0.48928767625\n",
      "0.666567478484\n"
     ]
    }
   ],
   "source": [
    "### RBF KERNEL\n",
    "svc = SVC(kernel='rbf')\n",
    "svc.fit(X_1, Y)\n",
    "print svc.score(X_1_test, Y_test)\n",
    "\n",
    "svc.fit(X_2, Y)\n",
    "print svc.score(X_2_test, Y_test)\n",
    "\n",
    "svc.fit(X_3, Y)\n",
    "print svc.score(X_3_test, Y_test)\n",
    "\n",
    "svc.fit(X_4, Y)\n",
    "print svc.score(X_4_test, Y_test)\n",
    "\n",
    "svc.fit(X_5, Y)\n",
    "print svc.score(X_5_test, Y_test)\n",
    "\n",
    "svc.fit(X_6, Y)\n",
    "print svc.score(X_6_test, Y_test)\n",
    "\n",
    "svc.fit(X_7, Y)\n",
    "print svc.score(X_7_test, Y_test)\n",
    "\n",
    "svc.fit(X_8, Y)\n",
    "print svc.score(X_8_test, Y_test)\n"
   ]
  },
  {
   "cell_type": "code",
   "execution_count": 8,
   "metadata": {
    "collapsed": false
   },
   "outputs": [
    {
     "name": "stdout",
     "output_type": "stream",
     "text": [
      "[ 0.9364291   0.92238917  0.91779461  0.92214082  0.91891221  0.9359245\n",
      "  0.92971563]\n",
      "0.926186577689 0.00723405402536\n"
     ]
    }
   ],
   "source": [
    "scores = cross_val_score(svc, X_8, Y, cv=7)\n",
    "print scores\n",
    "print scores.mean(), scores.std()"
   ]
  },
  {
   "cell_type": "code",
   "execution_count": null,
   "metadata": {
    "collapsed": true
   },
   "outputs": [],
   "source": []
  },
  {
   "cell_type": "code",
   "execution_count": null,
   "metadata": {
    "collapsed": true
   },
   "outputs": [],
   "source": []
  }
 ],
 "metadata": {
  "kernelspec": {
   "display_name": "Python 2",
   "language": "python",
   "name": "python2"
  },
  "language_info": {
   "codemirror_mode": {
    "name": "ipython",
    "version": 2
   },
   "file_extension": ".py",
   "mimetype": "text/x-python",
   "name": "python",
   "nbconvert_exporter": "python",
   "pygments_lexer": "ipython2",
   "version": "2.7.13"
  }
 },
 "nbformat": 4,
 "nbformat_minor": 2
}
